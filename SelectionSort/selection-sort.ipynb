{
 "cells": [
  {
   "cell_type": "code",
   "execution_count": null,
   "metadata": {},
   "outputs": [],
   "source": [
    "# Selection Sort de Renan Lucas de Moura\n",
    "\n",
    "import numpy as np\n",
    "import matplotlib.pyplot as plt\n",
    "from random import randint\n",
    "import time"
   ]
  },
  {
   "cell_type": "markdown",
   "metadata": {},
   "source": [
    "Função Selection Sort"
   ]
  },
  {
   "cell_type": "code",
   "execution_count": null,
   "metadata": {},
   "outputs": [],
   "source": [
    "def selection_sort(lista):\n",
    "    for i in range(len(lista)):\n",
    "        pivo = i\n",
    "        for j in range(i + 1, len(lista)):\n",
    "            if lista[j] < lista[pivo]:\n",
    "                pivo = j\n",
    "        lista[i], lista[pivo] = lista[pivo], lista[i]\n",
    "    return lista"
   ]
  },
  {
   "cell_type": "markdown",
   "metadata": {},
   "source": [
    "Função Bubble Sort (Para efeitos de comparação)"
   ]
  },
  {
   "cell_type": "code",
   "execution_count": null,
   "metadata": {},
   "outputs": [],
   "source": [
    "def bubble_sort(lista):\n",
    "    for i in range(len(lista)):\n",
    "        flag = False  # Flag para monitorar se houve troca entre um maior e menor\n",
    "        for j in range(len(lista) - 1 - i):\n",
    "            if lista[j] > lista[j + 1]:\n",
    "                lista[j], lista[j + 1] = lista[j + 1], lista[j]\n",
    "                flag = True\n",
    "        if not flag:\n",
    "            break\n",
    "    return lista"
   ]
  },
  {
   "cell_type": "markdown",
   "metadata": {},
   "source": [
    "Tamanhos das listas e tempos, melhor, pior e caso médio(aleatório)"
   ]
  },
  {
   "cell_type": "code",
   "execution_count": null,
   "metadata": {},
   "outputs": [],
   "source": [
    "tamanhos = [1000, 2000, 4000, 6000, 8000, 10000]\n",
    "\n",
    "tempo_melhor_caso = []\n",
    "tempo_pior_caso = []\n",
    "tempo_caso_aleatorio = []\n",
    "tempo_caso_aleatorio_bs = []"
   ]
  },
  {
   "cell_type": "markdown",
   "metadata": {},
   "source": [
    "Geração das listas e cálculos de tempo"
   ]
  },
  {
   "cell_type": "code",
   "execution_count": null,
   "metadata": {},
   "outputs": [],
   "source": [
    "for tamanho in tamanhos:\n",
    "    # melhor caso: lista já ordenada\n",
    "    lista_melhor = list(range(tamanho))\n",
    "    inicio = time.perf_counter()\n",
    "    selection_sort(lista_melhor.copy())\n",
    "    fim = time.perf_counter()\n",
    "    tempo_melhor_caso.append(fim - inicio)\n",
    "\n",
    "    # pior caso: lista em ordem decrescente\n",
    "    lista_pior = list(range(tamanho, 0, -1))\n",
    "    inicio = time.perf_counter()\n",
    "    selection_sort(lista_pior.copy())\n",
    "    fim = time.perf_counter()\n",
    "    tempo_pior_caso.append(fim - inicio)\n",
    "\n",
    "    # caso médio: ordem aleatória\n",
    "    lista_aleatoria = np.random.randint(0, 100000, tamanho)\n",
    "    inicio = time.perf_counter()\n",
    "    selection_sort(lista_aleatoria.copy())\n",
    "    fim = time.perf_counter()\n",
    "    tempo_caso_aleatorio.append(fim - inicio)\n",
    "\n",
    "    # caso médio: ordem aleatório BubbleSort\n",
    "\n",
    "    lista_aleatoria = np.random.randint(0, 100000, tamanho)\n",
    "    inicio = time.perf_counter()\n",
    "    bubble_sort(lista_aleatoria.copy())\n",
    "    fim = time.perf_counter()\n",
    "    tempo_caso_aleatorio_bs.append(fim - inicio)"
   ]
  },
  {
   "cell_type": "markdown",
   "metadata": {},
   "source": [
    "Gráfico Selection Sort em diferentes casos"
   ]
  },
  {
   "cell_type": "code",
   "execution_count": null,
   "metadata": {},
   "outputs": [],
   "source": [
    "plt.plot(tamanhos, tempo_melhor_caso, marker='o', linestyle='-', color='green', label='Melhor caso - Selection Sort')\n",
    "plt.plot(tamanhos, tempo_pior_caso, marker='o', linestyle='-', color='red', label='Pior caso - Selection Sort')\n",
    "plt.plot(tamanhos, tempo_caso_aleatorio, marker='o', linestyle='-', color='blue', label='Caso aleatório - Selection Sort')\n",
    "plt.title('Tempo de Execução do Selection Sort em Diferentes Casos')\n",
    "plt.xlabel('Tamanho da Lista')\n",
    "plt.ylabel('Tempo de Execução (segundos)')\n",
    "plt.legend()\n",
    "plt.grid(True)\n",
    "plt.show()"
   ]
  },
  {
   "cell_type": "markdown",
   "metadata": {},
   "source": [
    "Gráfico Selection x Bubble no caso aleatório"
   ]
  },
  {
   "cell_type": "code",
   "execution_count": null,
   "metadata": {},
   "outputs": [],
   "source": [
    "plt.plot(tamanhos, tempo_caso_aleatorio, marker='o', linestyle='-', color='blue', label='Caso aleatório - Selection Sort')\n",
    "plt.plot(tamanhos, tempo_caso_aleatorio_bs, marker='o', linestyle='-', color='orange', label='Caso aleatório - Bubble Sort')\n",
    "plt.title('Comparação do Tempo de Execução (Caso Aleatório)')\n",
    "plt.xlabel('Tamanho da Lista')\n",
    "plt.ylabel('Tempo de Execução (segundos)')\n",
    "plt.legend()\n",
    "plt.grid(True)\n",
    "plt.show()"
   ]
  }
 ],
 "metadata": {
  "language_info": {
   "name": "python"
  }
 },
 "nbformat": 4,
 "nbformat_minor": 2
}
